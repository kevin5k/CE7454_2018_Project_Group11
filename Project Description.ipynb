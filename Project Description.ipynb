{
 "cells": [
  {
   "cell_type": "markdown",
   "metadata": {},
   "source": [
    "# <p style='text-align: center;'> Object Detection of Ship images using Deep Learning Techniques </p> \n",
    "## <p style='text-align: center;'>--- CE7454 Deep Learning Course ---</p>"
   ]
  },
  {
   "cell_type": "markdown",
   "metadata": {},
   "source": [
    "<img src=\"algeciras-port.png\" alt=\"OSM coastline dataset (Algeciras, Spain)\" class=\"center\"> \n",
    "source: __[1](http://gbdxstories.digitalglobe.com/images/boats/algeciras-port.png)__"
   ]
  },
  {
   "cell_type": "markdown",
   "metadata": {},
   "source": [
    "## Project Objective"
   ]
  },
  {
   "cell_type": "markdown",
   "metadata": {},
   "source": [
    "To implement deep learning technique for locating and monitoring of ships on satellite images as quickly as possible"
   ]
  },
  {
   "cell_type": "markdown",
   "metadata": {},
   "source": [
    "## Project Description"
   ]
  },
  {
   "cell_type": "markdown",
   "metadata": {},
   "source": [
    "Shipping traffic is growing fast. More ships increase the chances of infractions at sea like environmentally devastating ship accidents, piracy, illegal fishing, drug trafficking, and illegal cargo movement. This has compelled many organizations, from environmental protection agencies to insurance companies and national government authorities, to have a closer watch over the open seas. A lot of work has been done over the last 10 years to automatically extract objects from satellite images with significative results but no effective operational effects. Now Airbus (i.e Kaggle competition sponsor) is turning to Kagglers to increase the accuracy and speed of automatic ship detection.\n",
    "\n",
    "This project focuses on applying deep learning on a combination of image datasets where ships may and may not be present. The dataset is obtained from Kaggle Competition. The data analysis will be carried out as follows: \n",
    "- Training the model with different architecture and over-fit the model\n",
    "- Regularization to close the gap between test set and training set in order to generalize the model prediction \n",
    "- Visualization of filters in different layers of the trained models to analyze vanishing gradient problem with existing models (eg. ResNet versus VGG versus inception etc.). \n",
    "\n",
    "Finally, we will utilize region proposal techniques, such as Faster R-CNN, to differentiate multiple ships from an image. Lastly, conclusion and future work will be discussed."
   ]
  },
  {
   "cell_type": "markdown",
   "metadata": {},
   "source": [
    "## Project Duration: \n",
    "6 weeks (11 Oct to 15 Nov 2018)"
   ]
  },
  {
   "cell_type": "markdown",
   "metadata": {},
   "source": [
    "## Supporting Notebook Documents"
   ]
  },
  {
   "cell_type": "markdown",
   "metadata": {},
   "source": [
    "- __[Powerpoint](https://github.com/wanght2018/CE7454_2018_Project_Group11/blob/master/Group%20Project%20Presentation.pptx)__ \n",
    "- __[Data Exploration](https://github.com/wanght2018/CE7454_2018_Project_Group11/blob/master/data_preprocess/data_exploration.ipynb)__ \n",
    "- __[Quick Model Training using basic CNN](https://github.com/wanght2018/CE7454_2018_Project_Group11/blob/master/data_preprocess/basic_cnn_test_2.ipynb)__ \n",
    "- __[Image Segmentation using Faster RCNN](about:blank)__\n",
    "- __[Layer Visualization Technique](about:blank)__"
   ]
  },
  {
   "cell_type": "markdown",
   "metadata": {},
   "source": [
    "## Team Members: \n",
    "- Xu Yan \n",
    "- Ong Shen Hoong Kevin \n",
    "- Wang Hongtao"
   ]
  },
  {
   "cell_type": "code",
   "execution_count": null,
   "metadata": {},
   "outputs": [],
   "source": []
  }
 ],
 "metadata": {
  "kernelspec": {
   "display_name": "Python 3",
   "language": "python",
   "name": "python3"
  },
  "language_info": {
   "codemirror_mode": {
    "name": "ipython",
    "version": 3
   },
   "file_extension": ".py",
   "mimetype": "text/x-python",
   "name": "python",
   "nbconvert_exporter": "python",
   "pygments_lexer": "ipython3",
   "version": "3.6.6"
  }
 },
 "nbformat": 4,
 "nbformat_minor": 2
}
